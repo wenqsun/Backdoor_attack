{
 "cells": [
  {
   "cell_type": "code",
   "execution_count": 10,
   "metadata": {},
   "outputs": [],
   "source": [
    "import torch\n",
    "from model import MnistNet\n",
    "import torchvision\n",
    "from torchvision.transforms import Compose, ToTensor, RandomHorizontalFlip, ToPILImage, Resize"
   ]
  },
  {
   "cell_type": "code",
   "execution_count": 11,
   "metadata": {},
   "outputs": [],
   "source": [
    "device = torch.device(\"cuda\" if torch.cuda.is_available() else \"cpu\")"
   ]
  },
  {
   "cell_type": "code",
   "execution_count": 12,
   "metadata": {},
   "outputs": [],
   "source": [
    "model = MnistNet().to(device)\n",
    "path = 'experiments/BaselineMNISTNetwork_MNIST_BadNets_2022-11-02_10:25:09/ckpt_epoch_200.pth'\n",
    "model.load_state_dict(torch.load(path))\n",
    "\n",
    "# load dataset\n",
    "transform_train = Compose([\n",
    "    ToTensor()\n",
    "])\n",
    "traindataset = torchvision.datasets.MNIST('../datasets', train=True, transform=transform_train, download=True)"
   ]
  },
  {
   "cell_type": "code",
   "execution_count": null,
   "metadata": {},
   "outputs": [],
   "source": []
  }
 ],
 "metadata": {
  "kernelspec": {
   "display_name": "Python 3.10.4 ('FL': conda)",
   "language": "python",
   "name": "python3"
  },
  "language_info": {
   "codemirror_mode": {
    "name": "ipython",
    "version": 3
   },
   "file_extension": ".py",
   "mimetype": "text/x-python",
   "name": "python",
   "nbconvert_exporter": "python",
   "pygments_lexer": "ipython3",
   "version": "3.10.4"
  },
  "orig_nbformat": 4,
  "vscode": {
   "interpreter": {
    "hash": "e58bea275dc02c3ddf05ce293d9a76ef84dc8b4c7eec055dbd0a07f52cb04438"
   }
  }
 },
 "nbformat": 4,
 "nbformat_minor": 2
}
